{
 "cells": [
  {
   "cell_type": "code",
   "execution_count": 17,
   "id": "b2a337ad",
   "metadata": {},
   "outputs": [
    {
     "name": "stdout",
     "output_type": "stream",
     "text": [
      "BS vol  K=  90.0  T=0.2500  σ=0.264\n",
      "BS vol  K= 100.0  T=0.2500  σ=0.335\n",
      "BS vol  K= 110.0  T=0.2500  σ=0.338\n",
      "ATM vol at 0.25y = 0.33479691934836253\n"
     ]
    }
   ],
   "source": [
    "import QuantLib as ql\n",
    "import numpy as np\n",
    "\n",
    "# ------------------- market inputs -------------------------------\n",
    "spot = 100.0\n",
    "r_flat, q_flat = 0.02, 0.00\n",
    "today = ql.Date(10, 7, 2025)\n",
    "ql.Settings.instance().evaluationDate = today\n",
    "dc = ql.Actual365Fixed()\n",
    "calendar   = ql.NullCalendar()\n",
    "\n",
    "rTS  = ql.YieldTermStructureHandle(ql.FlatForward(today, r_flat, dc))\n",
    "qTS  = ql.YieldTermStructureHandle(ql.FlatForward(today, q_flat, dc))\n",
    "spotH = ql.QuoteHandle(ql.SimpleQuote(spot))\n",
    "\n",
    "# scattered option quotes:  (strike, maturity in years, mid-price, type)\n",
    "quotes = [\n",
    "    ( 90.0, 0.25, 11.85, ql.Option.Call),\n",
    "    (100.0, 0.25,  6.90, ql.Option.Call),\n",
    "    (110.0, 0.25,  3.29, ql.Option.Call),\n",
    "    #( 95.0, 1.00, 12.20, ql.Option.Put ),\n",
    "    #(105.0, 1.00, 15.10, ql.Option.Put ),\n",
    "    #(120.0, 1.50, 24.65, ql.Option.Put ),\n",
    "]\n",
    "\n",
    "\n",
    "\n",
    "# ------------------- build the CalibrationSet --------------------\n",
    "calib = ql.CalibrationSet()\n",
    "bs_vols = []\n",
    "for K, T, price, optType in quotes:\n",
    "    payoff   = ql.PlainVanillaPayoff(optType, K)\n",
    "    expiry   = today + int(T*365 + 0.5)\n",
    "    exercise = ql.EuropeanExercise(expiry)\n",
    "    option   = ql.VanillaOption(payoff, exercise)\n",
    "\n",
    "\n",
    "    # Calculate BS implied volatility\n",
    "    process = ql.BlackScholesMertonProcess(spotH, qTS, rTS, ql.BlackVolTermStructureHandle(ql.BlackConstantVol(today, calendar, 0.02, dc)))\n",
    "\n",
    "    try:\n",
    "        implied_vol = option.impliedVolatility(price, process, 1e-6, 100, 0.001, 2.0)\n",
    "        bs_vols.append((K, T, price, optType, implied_vol))\n",
    "        print(f\"BS vol  K={K:6.1f}  T={T:.4f}  σ={implied_vol:.3f}\")\n",
    "    except RuntimeError as e:\n",
    "        print(f\"impliedVol failed  K={K:.1f}  T={T:.4f}: {e}\")\n",
    "        bs_vols.append((K, T, price, optType, np.nan))\n",
    "\n",
    "\n",
    "    calib.push_back((option, ql.SimpleQuote(implied_vol)))\n",
    "\n",
    "# ------------------- Andreasen-Huge surface ----------------------\n",
    "ah_interp = ql.AndreasenHugeVolatilityInterpl(\n",
    "    calib,                         # scattered quotes\n",
    "    spotH, rTS, qTS,\n",
    "    ql.AndreasenHugeVolatilityInterpl.CubicSpline,\n",
    "    #ql.AndreasenHugeVolatilityInterpl.CallPut   # <-- quotes are prices\n",
    "    ql.AndreasenHugeVolatilityInterpl.Call\n",
    ")\n",
    "\n",
    "ah_surface = ql.AndreasenHugeVolatilityAdapter(ah_interp)\n",
    "ah_surface.enableExtrapolation()\n",
    "volTS = ql.BlackVolTermStructureHandle(ah_surface)\n",
    "\n",
    "# quick test -------------------------------------------------------\n",
    "print(\"ATM vol at 0.25y =\", volTS.blackVol(0.25, spot))"
   ]
  },
  {
   "cell_type": "code",
   "execution_count": null,
   "id": "3073f18f",
   "metadata": {},
   "outputs": [],
   "source": []
  }
 ],
 "metadata": {
  "kernelspec": {
   "display_name": "Python 3",
   "language": "python",
   "name": "python3"
  },
  "language_info": {
   "codemirror_mode": {
    "name": "ipython",
    "version": 3
   },
   "file_extension": ".py",
   "mimetype": "text/x-python",
   "name": "python",
   "nbconvert_exporter": "python",
   "pygments_lexer": "ipython3",
   "version": "3.13.2"
  }
 },
 "nbformat": 4,
 "nbformat_minor": 5
}
