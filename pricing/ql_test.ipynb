{
 "cells": [
  {
   "cell_type": "code",
   "execution_count": 8,
   "id": "5140f8da",
   "metadata": {},
   "outputs": [],
   "source": [
    "import QuantLib as ql\n",
    "today = ql.Date(20, 6, 2025)\n",
    "ql.Settings.instance().evaluationDate = today\n",
    "\n",
    "calendar   = ql.NullCalendar()          # << every day is “good’’\n",
    "dayCounter = ql.Actual365Fixed()"
   ]
  },
  {
   "cell_type": "code",
   "execution_count": 9,
   "id": "5e19839b",
   "metadata": {},
   "outputs": [],
   "source": [
    "times   = [30/365, 90/365, 180/365, 365/365]      # years\n",
    "strikes = [0.8, 0.9, 1.00, 1.10, 1.20]\n",
    "vols = [[0.34, 0.31, 0.28, 0.26],\n",
    "        [0.30, 0.28, 0.25, 0.23],\n",
    "        [0.27, 0.25, 0.23, 0.22],\n",
    "        [0.26, 0.24, 0.22, 0.21],\n",
    "        [0.28, 0.26, 0.24, 0.23]]\n",
    "\n",
    "volMatrix = ql.Matrix(len(strikes), len(times))\n",
    "for i, row in enumerate(vols):\n",
    "    for j, v in enumerate(row):\n",
    "        volMatrix[i][j] = v\n",
    "\n",
    "try:\n",
    "    # constructor that takes times in *years* → fully calendar-free\n",
    "    blackSurf = ql.BlackVarianceSurface(today, times, strikes,\n",
    "                                        volMatrix, dayCounter)\n",
    "except TypeError:\n",
    "    # older bindings: fall back to dates but with NullCalendar\n",
    "    expiries  = [today + int(t*365 + 0.5) for t in times]\n",
    "    blackSurf = ql.BlackVarianceSurface(today, calendar, expiries,\n",
    "                                        strikes, volMatrix, dayCounter)\n",
    "\n",
    "blackSurf.enableExtrapolation()\n",
    "volTS = ql.BlackVolTermStructureHandle(blackSurf)"
   ]
  },
  {
   "cell_type": "code",
   "execution_count": 14,
   "id": "70a9fde8",
   "metadata": {},
   "outputs": [],
   "source": [
    "S0, r, q = 1, 0.04, 0.0\n",
    "spot     = ql.QuoteHandle(ql.SimpleQuote(S0))\n",
    "ratesTS  = ql.YieldTermStructureHandle(ql.FlatForward(today, r, dayCounter))\n",
    "divTS    = ql.YieldTermStructureHandle(ql.FlatForward(today, q, dayCounter))\n",
    "\n",
    "process  = ql.BlackScholesMertonProcess(spot, divTS, ratesTS, volTS)\n",
    "\n",
    "T = 180/365                             # 6-month put, K = 1.05\n",
    "maturity = today + int(T*365 + 0.5)     # no holidays, just add days\n",
    "payoff   = ql.PlainVanillaPayoff(ql.Option.Put, 1.05)\n",
    "exercise = ql.AmericanExercise(today, maturity)\n",
    "option   = ql.VanillaOption(payoff, exercise)"
   ]
  },
  {
   "cell_type": "code",
   "execution_count": 15,
   "id": "e2cef1da",
   "metadata": {},
   "outputs": [
    {
     "name": "stdout",
     "output_type": "stream",
     "text": [
      "NPV = 0.08673650237092757\n"
     ]
    }
   ],
   "source": [
    "# works with QuantLib ≥ 1.30  (all params are positional)\n",
    "engine = ql.FdBlackScholesVanillaEngine(\n",
    "            process,        # Black-Scholes-MertonProcess\n",
    "            200,            # tGrid      – time steps\n",
    "            200,            # xGrid      – asset-price grid points\n",
    "            0,              # dampingSteps\n",
    "            ql.FdmSchemeDesc.CrankNicolson(),  # scheme\n",
    "            True)           # localVol   – let the engine build Dupire σloc\n",
    "\n",
    "option.setPricingEngine(engine)\n",
    "\n",
    "print(\"NPV =\", option.NPV())"
   ]
  },
  {
   "cell_type": "code",
   "execution_count": 1,
   "id": "2db4886d",
   "metadata": {},
   "outputs": [
    {
     "name": "stdout",
     "output_type": "stream",
     "text": [
      "Option price: 4.3247473535576475\n"
     ]
    }
   ],
   "source": [
    "import QuantLib as ql\n",
    "today = ql.Settings.instance().evaluationDate\n",
    "\n",
    "averageType = ql.Average.Arithmetic\n",
    "option_type = ql.Option.Call\n",
    "\n",
    "strike = 100.0\n",
    "exerciseDate = ql.TARGET().advance(today, 90, ql.Days)\n",
    "\n",
    "pastFixings = 0 # Empty because this is a new contract\n",
    "asianFixingDates = [ql.TARGET().advance(today, x, ql.Days) for x in range(1,91)]\n",
    "\n",
    "payoff = ql.PlainVanillaPayoff(option_type, strike)\n",
    "exercise = ql.EuropeanExercise(exerciseDate)\n",
    "option = ql.DiscreteAveragingAsianOption(averageType, 0.0, pastFixings, asianFixingDates, payoff, exercise)\n",
    "\n",
    "initialValue = ql.QuoteHandle(ql.SimpleQuote(100))\n",
    "sigma = 0.3\n",
    "riskFreeTS = ql.YieldTermStructureHandle(ql.FlatForward(today, 0.03, ql.Actual365Fixed()))\n",
    "volTS = ql.BlackVolTermStructureHandle(ql.BlackConstantVol(today, ql.NullCalendar(), sigma, ql.Actual365Fixed()))\n",
    "stochProcess = ql.BlackScholesProcess(initialValue, riskFreeTS, volTS)\n",
    "\n",
    "engine = ql.FdBlackScholesAsianEngine(stochProcess, tGrid=100, xGrid=100, aGrid=50)\n",
    "\n",
    "option.setPricingEngine(engine)\n",
    "price = option.NPV()\n",
    "\n",
    "print(f\"Option price: {price}\")"
   ]
  },
  {
   "cell_type": "code",
   "execution_count": null,
   "id": "dd10d547",
   "metadata": {},
   "outputs": [],
   "source": []
  }
 ],
 "metadata": {
  "kernelspec": {
   "display_name": "Python 3",
   "language": "python",
   "name": "python3"
  },
  "language_info": {
   "codemirror_mode": {
    "name": "ipython",
    "version": 3
   },
   "file_extension": ".py",
   "mimetype": "text/x-python",
   "name": "python",
   "nbconvert_exporter": "python",
   "pygments_lexer": "ipython3",
   "version": "3.13.2"
  }
 },
 "nbformat": 4,
 "nbformat_minor": 5
}
