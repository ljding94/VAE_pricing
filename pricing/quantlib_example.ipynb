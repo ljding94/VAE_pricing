{
 "cells": [
  {
   "cell_type": "code",
   "execution_count": 24,
   "id": "c6a2c40f",
   "metadata": {},
   "outputs": [],
   "source": [
    "import QuantLib as ql\n",
    "import pandas as pd\n",
    "import numpy as np\n",
    "import matplotlib.pyplot as plt\n",
    "from scipy.interpolate import RBFInterpolator\n",
    "from datetime import datetime, timedelta\n"
   ]
  },
  {
   "cell_type": "code",
   "execution_count": 25,
   "id": "65258ab8",
   "metadata": {},
   "outputs": [],
   "source": [
    "spot = 100.0\n",
    "r = 0.05\n",
    "pricing_date = datetime(2023, 10, 2)\n",
    "pricing_date_str = pricing_date.strftime('%Y-%m-%d')\n",
    "\n",
    "vol_surface = pd.read_csv(rf'/Users/allen/Downloads/grid_data_{pricing_date_str}.csv')\n",
    "vol_surface['vol'] = np.sqrt(vol_surface['total_var_grid'] / vol_surface['T_grid'])\n",
    "vol_surface['fwd'] = spot * np.exp(r * vol_surface['T_grid'])\n",
    "vol_surface['k'] = vol_surface['fwd'] * np.exp(vol_surface['k_grid'])"
   ]
  },
  {
   "cell_type": "code",
   "execution_count": 26,
   "id": "aa2c403d",
   "metadata": {},
   "outputs": [],
   "source": [
    "ks = vol_surface['k'].tolist()\n",
    "ts = vol_surface['T_grid'].tolist()\n",
    "xy = np.column_stack((ks / np.std(ks), ts / np.std(ts)))\n",
    "xy = np.column_stack((ks, ts))\n",
    "vols = vol_surface['vol'].tolist()\n",
    "rbf = RBFInterpolator(xy, vols, kernel='thin_plate_spline', smoothing=1e-4)"
   ]
  },
  {
   "cell_type": "code",
   "execution_count": 27,
   "id": "965f09f8",
   "metadata": {},
   "outputs": [],
   "source": [
    "dgrid = [pricing_date + timedelta(days=round(x * 365)) for x in sorted(vol_surface['T_grid'].unique())]\n",
    "tgrid = [(d - pricing_date).days / 365.0 for d in dgrid]\n",
    "kmin, kmax = vol_surface['k'].min(), vol_surface['k'].max()\n",
    "kgrid = np.linspace(kmin, kmax, 100)"
   ]
  },
  {
   "cell_type": "code",
   "execution_count": 28,
   "id": "ae3db679",
   "metadata": {},
   "outputs": [],
   "source": [
    "volmatrix = ql.Matrix(len(kgrid), len(dgrid))\n",
    "for ik, k in enumerate(kgrid):\n",
    "    vs = rbf([[k, t] for t in tgrid]).tolist()\n",
    "    for it, v in enumerate(vs):\n",
    "        volmatrix[ik][it] = v"
   ]
  },
  {
   "cell_type": "code",
   "execution_count": 29,
   "id": "2e139813",
   "metadata": {},
   "outputs": [],
   "source": [
    "dgrid = [ql.Date(d.day, d.month, d.year) for d in dgrid]"
   ]
  },
  {
   "cell_type": "code",
   "execution_count": 30,
   "id": "b61815f4",
   "metadata": {},
   "outputs": [],
   "source": [
    "reference_date = ql.Date(pricing_date.day, pricing_date.month, pricing_date.year)\n",
    "ql.Settings.instance().evaluationDate = reference_date\n",
    "calendar = ql.TARGET()\n",
    "dc = ql.Actual365Fixed()\n",
    "\n",
    "volatility = ql.BlackVarianceSurface(\n",
    "    reference_date,\n",
    "    calendar,\n",
    "    dgrid,\n",
    "    kgrid,\n",
    "    volmatrix,\n",
    "    dc\n",
    ")\n",
    "\n",
    "volatility.enableExtrapolation()"
   ]
  },
  {
   "cell_type": "code",
   "execution_count": 42,
   "id": "29346f0b",
   "metadata": {},
   "outputs": [],
   "source": [
    "\n",
    "ql.Settings.instance().evaluationDate = reference_date\n",
    "\n",
    "exercise = ql.AmericanExercise(reference_date, ql.Date(2, ql.October, 2024))\n",
    "payoff = ql.PlainVanillaPayoff(ql.Option.Put, 110.0)\n",
    "option = ql.VanillaOption(payoff, exercise)\n",
    "\n",
    "underlying = ql.SimpleQuote(100.0)\n",
    "dividend = ql.FlatForward(reference_date, 0.0, ql.Actual365Fixed())\n",
    "risk_free_rate = ql.FlatForward(reference_date, r, ql.Actual365Fixed())\n",
    "\n",
    "process = ql.BlackScholesMertonProcess(\n",
    "    ql.QuoteHandle(underlying),\n",
    "    ql.YieldTermStructureHandle(dividend),\n",
    "    ql.YieldTermStructureHandle(risk_free_rate),\n",
    "    ql.BlackVolTermStructureHandle(volatility),\n",
    ")"
   ]
  },
  {
   "cell_type": "code",
   "execution_count": 43,
   "id": "6d936563",
   "metadata": {},
   "outputs": [
    {
     "name": "stdout",
     "output_type": "stream",
     "text": [
      "               Method  Option value\n",
      "0  finite differences     10.256425\n"
     ]
    }
   ],
   "source": [
    "results = []\n",
    "\n",
    "# option.setPricingEngine(ql.BaroneAdesiWhaleyApproximationEngine(process))\n",
    "# results.append((\"Barone-Adesi-Whaley\", option.NPV()))\n",
    "\n",
    "# option.setPricingEngine(ql.BjerksundStenslandApproximationEngine(process))\n",
    "# results.append((\"Bjerksund-Stensland\", option.NPV()))\n",
    "\n",
    "timeSteps = 801\n",
    "gridPoints = 800\n",
    "option.setPricingEngine(ql.FdBlackScholesVanillaEngine(process, timeSteps, gridPoints))\n",
    "results.append((\"finite differences\", option.NPV()))\n",
    "\n",
    "# option.setPricingEngine(ql.QdPlusAmericanEngine(process))\n",
    "# results.append((\"QD+\", option.NPV()))\n",
    "\n",
    "# option.setPricingEngine(\n",
    "#     ql.QdFpAmericanEngine(process, ql.QdFpAmericanEngine.accurateScheme())\n",
    "# )\n",
    "# results.append((\"QD+ fixed point\", option.NPV()))\n",
    "\n",
    "# timeSteps = 801\n",
    "# for tree in [\"JR\", \"CRR\", \"EQP\", \"Trigeorgis\", \"Tian\", \"LR\", \"Joshi4\"]:\n",
    "#     option.setPricingEngine(ql.BinomialVanillaEngine(process, tree, timeSteps))\n",
    "#     results.append((\"Binomial (%s)\" % tree, option.NPV()))\n",
    "\n",
    "\n",
    "df = pd.DataFrame(results, columns=[\"Method\", \"Option value\"])\n",
    "df.style.hide(axis=\"index\")\n",
    "print(df)"
   ]
  }
 ],
 "metadata": {
  "kernelspec": {
   "display_name": "test",
   "language": "python",
   "name": "python3"
  },
  "language_info": {
   "codemirror_mode": {
    "name": "ipython",
    "version": 3
   },
   "file_extension": ".py",
   "mimetype": "text/x-python",
   "name": "python",
   "nbconvert_exporter": "python",
   "pygments_lexer": "ipython3",
   "version": "3.12.9"
  }
 },
 "nbformat": 4,
 "nbformat_minor": 5
}
